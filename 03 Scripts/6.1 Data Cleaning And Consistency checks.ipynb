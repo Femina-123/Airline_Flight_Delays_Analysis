{
 "cells": [
  {
   "cell_type": "markdown",
   "id": "fbc8c5b4",
   "metadata": {},
   "source": [
    "## 6.1: Sourcing Open Data\n",
    "\n",
    "### This script contains the following:\n",
    "\n",
    "#### 1. Importing  Libraries \n",
    "#### 2. Import Data\n",
    "#### 3. check columns\n",
    "#### 4. Finding and handling missing data\n",
    "#### 5. checking datatypes\n",
    "#### 6. Finding Duplicates\n",
    "#### 7. Descriptive analysis\n",
    "#### 8. Rename columns"
   ]
  },
  {
   "cell_type": "markdown",
   "id": "1594a278",
   "metadata": {},
   "source": [
    "<h2>1. Importing Libraries</h2>"
   ]
  },
  {
   "cell_type": "code",
   "execution_count": 47,
   "id": "86dd5592",
   "metadata": {},
   "outputs": [],
   "source": [
    "# Import libraries\n",
    "import os\n",
    "import numpy as np \n",
    "import pandas as pd \n",
    "import seaborn as sns\n",
    "import matplotlib.pyplot as plt\n",
    "import datetime\n"
   ]
  },
  {
   "cell_type": "markdown",
   "id": "13beda70",
   "metadata": {},
   "source": [
    "## 2. Import Data"
   ]
  },
  {
   "cell_type": "code",
   "execution_count": 49,
   "id": "2b867e13",
   "metadata": {
    "scrolled": true
   },
   "outputs": [
    {
     "name": "stdout",
     "output_type": "stream",
     "text": [
      "      FL_DATE                AIRLINE                AIRLINE_DOT AIRLINE_CODE  \\\n",
      "0  2019-01-09  United Air Lines Inc.  United Air Lines Inc.: UA           UA   \n",
      "1  2022-11-19   Delta Air Lines Inc.   Delta Air Lines Inc.: DL           DL   \n",
      "2  2022-07-22  United Air Lines Inc.  United Air Lines Inc.: UA           UA   \n",
      "3  2023-03-06   Delta Air Lines Inc.   Delta Air Lines Inc.: DL           DL   \n",
      "4  2020-02-23       Spirit Air Lines       Spirit Air Lines: NK           NK   \n",
      "\n",
      "   DOT_CODE  FL_NUMBER ORIGIN          ORIGIN_CITY DEST  \\\n",
      "0     19977       1562    FLL  Fort Lauderdale, FL  EWR   \n",
      "1     19790       1149    MSP      Minneapolis, MN  SEA   \n",
      "2     19977        459    DEN           Denver, CO  MSP   \n",
      "3     19790       2295    MSP      Minneapolis, MN  SFO   \n",
      "4     20416        407    MCO          Orlando, FL  DFW   \n",
      "\n",
      "               DEST_CITY  ...  DIVERTED  CRS_ELAPSED_TIME  ELAPSED_TIME  \\\n",
      "0             Newark, NJ  ...       0.0             186.0         176.0   \n",
      "1            Seattle, WA  ...       0.0             235.0         236.0   \n",
      "2        Minneapolis, MN  ...       0.0             118.0         112.0   \n",
      "3      San Francisco, CA  ...       0.0             260.0         285.0   \n",
      "4  Dallas/Fort Worth, TX  ...       0.0             181.0         182.0   \n",
      "\n",
      "   AIR_TIME  DISTANCE  DELAY_DUE_CARRIER  DELAY_DUE_WEATHER  DELAY_DUE_NAS  \\\n",
      "0     153.0    1065.0                NaN                NaN            NaN   \n",
      "1     189.0    1399.0                NaN                NaN            NaN   \n",
      "2      87.0     680.0                NaN                NaN            NaN   \n",
      "3     249.0    1589.0                0.0                0.0           24.0   \n",
      "4     153.0     985.0                NaN                NaN            NaN   \n",
      "\n",
      "   DELAY_DUE_SECURITY  DELAY_DUE_LATE_AIRCRAFT  \n",
      "0                 NaN                      NaN  \n",
      "1                 NaN                      NaN  \n",
      "2                 NaN                      NaN  \n",
      "3                 0.0                      0.0  \n",
      "4                 NaN                      NaN  \n",
      "\n",
      "[5 rows x 32 columns]\n"
     ]
    }
   ],
   "source": [
    "\n",
    "path = r'C:\\Users\\Lukman\\Desktop\\FEMINA CF\\Data Immerssion\\Achievement6\\Analyzing Flight Delays'\n",
    "df = pd.read_csv(os.path.join(path,'02 Data','Original Data','flightsdelay_data.csv'))\n",
    "\n",
    "# Display the first few rows of the dataframe\n",
    "print(df.head())"
   ]
  },
  {
   "cell_type": "markdown",
   "id": "714d394e",
   "metadata": {},
   "source": [
    "## 3. Check for Column Names"
   ]
  },
  {
   "cell_type": "code",
   "execution_count": 50,
   "id": "15704521",
   "metadata": {},
   "outputs": [
    {
     "name": "stdout",
     "output_type": "stream",
     "text": [
      "Index(['FL_DATE', 'AIRLINE', 'AIRLINE_DOT', 'AIRLINE_CODE', 'DOT_CODE',\n",
      "       'FL_NUMBER', 'ORIGIN', 'ORIGIN_CITY', 'DEST', 'DEST_CITY',\n",
      "       'CRS_DEP_TIME', 'DEP_TIME', 'DEP_DELAY', 'TAXI_OUT', 'WHEELS_OFF',\n",
      "       'WHEELS_ON', 'TAXI_IN', 'CRS_ARR_TIME', 'ARR_TIME', 'ARR_DELAY',\n",
      "       'CANCELLED', 'CANCELLATION_CODE', 'DIVERTED', 'CRS_ELAPSED_TIME',\n",
      "       'ELAPSED_TIME', 'AIR_TIME', 'DISTANCE', 'DELAY_DUE_CARRIER',\n",
      "       'DELAY_DUE_WEATHER', 'DELAY_DUE_NAS', 'DELAY_DUE_SECURITY',\n",
      "       'DELAY_DUE_LATE_AIRCRAFT'],\n",
      "      dtype='object')\n"
     ]
    }
   ],
   "source": [
    "print(df.columns)\n"
   ]
  },
  {
   "cell_type": "code",
   "execution_count": 51,
   "id": "43efaa10",
   "metadata": {
    "scrolled": true
   },
   "outputs": [
    {
     "name": "stdout",
     "output_type": "stream",
     "text": [
      "(3000000, 32)\n"
     ]
    }
   ],
   "source": [
    "print(df.shape)"
   ]
  },
  {
   "cell_type": "markdown",
   "id": "7b37d9ad",
   "metadata": {},
   "source": [
    "## 4. Finding and Handling Missing Data"
   ]
  },
  {
   "cell_type": "code",
   "execution_count": 52,
   "id": "cb6c5d0e",
   "metadata": {},
   "outputs": [
    {
     "data": {
      "text/plain": [
       "FL_DATE                          0\n",
       "AIRLINE                          0\n",
       "AIRLINE_DOT                      0\n",
       "AIRLINE_CODE                     0\n",
       "DOT_CODE                         0\n",
       "FL_NUMBER                        0\n",
       "ORIGIN                           0\n",
       "ORIGIN_CITY                      0\n",
       "DEST                             0\n",
       "DEST_CITY                        0\n",
       "CRS_DEP_TIME                     0\n",
       "DEP_TIME                     77615\n",
       "DEP_DELAY                    77644\n",
       "TAXI_OUT                     78806\n",
       "WHEELS_OFF                   78806\n",
       "WHEELS_ON                    79944\n",
       "TAXI_IN                      79944\n",
       "CRS_ARR_TIME                     0\n",
       "ARR_TIME                     79942\n",
       "ARR_DELAY                    86198\n",
       "CANCELLED                        0\n",
       "CANCELLATION_CODE          2920860\n",
       "DIVERTED                         0\n",
       "CRS_ELAPSED_TIME                14\n",
       "ELAPSED_TIME                 86198\n",
       "AIR_TIME                     86198\n",
       "DISTANCE                         0\n",
       "DELAY_DUE_CARRIER          2466137\n",
       "DELAY_DUE_WEATHER          2466137\n",
       "DELAY_DUE_NAS              2466137\n",
       "DELAY_DUE_SECURITY         2466137\n",
       "DELAY_DUE_LATE_AIRCRAFT    2466137\n",
       "dtype: int64"
      ]
     },
     "execution_count": 52,
     "metadata": {},
     "output_type": "execute_result"
    }
   ],
   "source": [
    "# Check for missing values\n",
    "df.isnull().sum()\n"
   ]
  },
  {
   "cell_type": "code",
   "execution_count": 53,
   "id": "4a3dcf93",
   "metadata": {},
   "outputs": [],
   "source": [
    "# Fill missing cancellation codes with a placeholder\n",
    "df['CANCELLATION_CODE'].fillna('Not Canceled', inplace=True)"
   ]
  },
  {
   "cell_type": "code",
   "execution_count": 54,
   "id": "aef2f31f",
   "metadata": {},
   "outputs": [],
   "source": [
    "# Fill missing delay reasons with 0 (no delay)\n",
    "delay_columns = [\n",
    "    'DELAY_DUE_CARRIER', 'DELAY_DUE_WEATHER', 'DELAY_DUE_NAS', \n",
    "    'DELAY_DUE_SECURITY', 'DELAY_DUE_LATE_AIRCRAFT'\n",
    "]\n",
    "df[delay_columns] = df[delay_columns].fillna(0)"
   ]
  },
  {
   "cell_type": "code",
   "execution_count": 55,
   "id": "ed00be50",
   "metadata": {},
   "outputs": [],
   "source": [
    "# drop rows with missing values if they are not canceled\n",
    "df.dropna(subset=['DEP_TIME', 'ARR_TIME'], inplace=True)"
   ]
  },
  {
   "cell_type": "code",
   "execution_count": 56,
   "id": "9512886e",
   "metadata": {},
   "outputs": [],
   "source": [
    "# For `CRS_ELAPSED_TIME`, fill with the median value\n",
    "df['CRS_ELAPSED_TIME'].fillna(df['CRS_ELAPSED_TIME'].median(), inplace=True)"
   ]
  },
  {
   "cell_type": "code",
   "execution_count": 57,
   "id": "c14d786b",
   "metadata": {
    "scrolled": true
   },
   "outputs": [
    {
     "data": {
      "text/plain": [
       "FL_DATE                       0\n",
       "AIRLINE                       0\n",
       "AIRLINE_DOT                   0\n",
       "AIRLINE_CODE                  0\n",
       "DOT_CODE                      0\n",
       "FL_NUMBER                     0\n",
       "ORIGIN                        0\n",
       "ORIGIN_CITY                   0\n",
       "DEST                          0\n",
       "DEST_CITY                     0\n",
       "CRS_DEP_TIME                  0\n",
       "DEP_TIME                      0\n",
       "DEP_DELAY                     0\n",
       "TAXI_OUT                      0\n",
       "WHEELS_OFF                    0\n",
       "WHEELS_ON                     2\n",
       "TAXI_IN                       2\n",
       "CRS_ARR_TIME                  0\n",
       "ARR_TIME                      0\n",
       "ARR_DELAY                  6256\n",
       "CANCELLED                     0\n",
       "CANCELLATION_CODE             0\n",
       "DIVERTED                      0\n",
       "CRS_ELAPSED_TIME              0\n",
       "ELAPSED_TIME               6256\n",
       "AIR_TIME                   6256\n",
       "DISTANCE                      0\n",
       "DELAY_DUE_CARRIER             0\n",
       "DELAY_DUE_WEATHER             0\n",
       "DELAY_DUE_NAS                 0\n",
       "DELAY_DUE_SECURITY            0\n",
       "DELAY_DUE_LATE_AIRCRAFT       0\n",
       "dtype: int64"
      ]
     },
     "execution_count": 57,
     "metadata": {},
     "output_type": "execute_result"
    }
   ],
   "source": [
    "#checking missing values \n",
    "df.isnull().sum()"
   ]
  },
  {
   "cell_type": "markdown",
   "id": "4a4a40b2",
   "metadata": {},
   "source": [
    "## 5. Check Datatypes"
   ]
  },
  {
   "cell_type": "code",
   "execution_count": 58,
   "id": "dbcf21ce",
   "metadata": {
    "scrolled": true
   },
   "outputs": [
    {
     "data": {
      "text/plain": [
       "FL_DATE                     object\n",
       "AIRLINE                     object\n",
       "AIRLINE_DOT                 object\n",
       "AIRLINE_CODE                object\n",
       "DOT_CODE                     int64\n",
       "FL_NUMBER                    int64\n",
       "ORIGIN                      object\n",
       "ORIGIN_CITY                 object\n",
       "DEST                        object\n",
       "DEST_CITY                   object\n",
       "CRS_DEP_TIME                 int64\n",
       "DEP_TIME                   float64\n",
       "DEP_DELAY                  float64\n",
       "TAXI_OUT                   float64\n",
       "WHEELS_OFF                 float64\n",
       "WHEELS_ON                  float64\n",
       "TAXI_IN                    float64\n",
       "CRS_ARR_TIME                 int64\n",
       "ARR_TIME                   float64\n",
       "ARR_DELAY                  float64\n",
       "CANCELLED                  float64\n",
       "CANCELLATION_CODE           object\n",
       "DIVERTED                   float64\n",
       "CRS_ELAPSED_TIME           float64\n",
       "ELAPSED_TIME               float64\n",
       "AIR_TIME                   float64\n",
       "DISTANCE                   float64\n",
       "DELAY_DUE_CARRIER          float64\n",
       "DELAY_DUE_WEATHER          float64\n",
       "DELAY_DUE_NAS              float64\n",
       "DELAY_DUE_SECURITY         float64\n",
       "DELAY_DUE_LATE_AIRCRAFT    float64\n",
       "dtype: object"
      ]
     },
     "execution_count": 58,
     "metadata": {},
     "output_type": "execute_result"
    }
   ],
   "source": [
    "# check for datatypes\n",
    "df.dtypes"
   ]
  },
  {
   "cell_type": "code",
   "execution_count": 59,
   "id": "3ce63ec2",
   "metadata": {},
   "outputs": [
    {
     "name": "stdout",
     "output_type": "stream",
     "text": [
      "Columns with mixed data types: ['WHEELS_ON', 'TAXI_IN', 'ARR_DELAY', 'ELAPSED_TIME', 'AIR_TIME']\n"
     ]
    }
   ],
   "source": [
    "# Function to check for mixed data types\n",
    "def check_mixed_data_types(df):\n",
    "    mixed_type_columns = []\n",
    "    for col in df.columns:\n",
    "        # Try to convert column to numeric, forcing non-numeric to NaN\n",
    "        temp = pd.to_numeric(df[col], errors='coerce')\n",
    "        # If the sum of NaNs is not zero and less than the length of the column, it indicates mixed types\n",
    "        if temp.isnull().sum() > 0 and temp.isnull().sum() < len(temp):\n",
    "            mixed_type_columns.append(col)\n",
    "    return mixed_type_columns\n",
    "\n",
    "# Identify columns with mixed data types\n",
    "mixed_type_columns = check_mixed_data_types(df)\n",
    "print(f\"Columns with mixed data types: {mixed_type_columns}\")"
   ]
  },
  {
   "cell_type": "code",
   "execution_count": 60,
   "id": "272ec11c",
   "metadata": {},
   "outputs": [
    {
     "name": "stdout",
     "output_type": "stream",
     "text": [
      "NaNs introduced after conversion:\n",
      "WHEELS_ON          2\n",
      "TAXI_IN            2\n",
      "ARR_DELAY       6256\n",
      "ELAPSED_TIME    6256\n",
      "AIR_TIME        6256\n",
      "dtype: int64\n",
      "Columns with mixed data types after handling:\n",
      "[]\n"
     ]
    }
   ],
   "source": [
    "#Handling Mixed Data type\n",
    "# Convert columns to numeric, coercing errors to NaN\n",
    "for col in mixed_type_columns:\n",
    "    df[col] = pd.to_numeric(df[col], errors='coerce')\n",
    "\n",
    "# Inspect the number of NaNs introduced by coercion\n",
    "print(f\"NaNs introduced after conversion:\\n{df[mixed_type_columns].isna().sum()}\")\n",
    "\n",
    "# Handle NaNs: Fill with median value for each column\n",
    "for col in mixed_type_columns:\n",
    "    median_value = df[col].median()\n",
    "    df[col].fillna(median_value, inplace=True)\n",
    "\n",
    "# Verify the changes\n",
    "print(f\"Columns with mixed data types after handling:\\n{check_mixed_data_types(df)}\")\n"
   ]
  },
  {
   "cell_type": "code",
   "execution_count": 61,
   "id": "9d9a80cf",
   "metadata": {},
   "outputs": [
    {
     "data": {
      "text/plain": [
       "FL_DATE                    0\n",
       "AIRLINE                    0\n",
       "AIRLINE_DOT                0\n",
       "AIRLINE_CODE               0\n",
       "DOT_CODE                   0\n",
       "FL_NUMBER                  0\n",
       "ORIGIN                     0\n",
       "ORIGIN_CITY                0\n",
       "DEST                       0\n",
       "DEST_CITY                  0\n",
       "CRS_DEP_TIME               0\n",
       "DEP_TIME                   0\n",
       "DEP_DELAY                  0\n",
       "TAXI_OUT                   0\n",
       "WHEELS_OFF                 0\n",
       "WHEELS_ON                  0\n",
       "TAXI_IN                    0\n",
       "CRS_ARR_TIME               0\n",
       "ARR_TIME                   0\n",
       "ARR_DELAY                  0\n",
       "CANCELLED                  0\n",
       "CANCELLATION_CODE          0\n",
       "DIVERTED                   0\n",
       "CRS_ELAPSED_TIME           0\n",
       "ELAPSED_TIME               0\n",
       "AIR_TIME                   0\n",
       "DISTANCE                   0\n",
       "DELAY_DUE_CARRIER          0\n",
       "DELAY_DUE_WEATHER          0\n",
       "DELAY_DUE_NAS              0\n",
       "DELAY_DUE_SECURITY         0\n",
       "DELAY_DUE_LATE_AIRCRAFT    0\n",
       "dtype: int64"
      ]
     },
     "execution_count": 61,
     "metadata": {},
     "output_type": "execute_result"
    }
   ],
   "source": [
    "#checking missing values \n",
    "df.isnull().sum()"
   ]
  },
  {
   "cell_type": "markdown",
   "id": "c7377dd5",
   "metadata": {},
   "source": [
    "## 6. Finding Duplicates"
   ]
  },
  {
   "cell_type": "code",
   "execution_count": 62,
   "id": "a9e3b127",
   "metadata": {},
   "outputs": [
    {
     "data": {
      "text/plain": [
       "0"
      ]
     },
     "execution_count": 62,
     "metadata": {},
     "output_type": "execute_result"
    }
   ],
   "source": [
    "#Check for duplicate records\n",
    "df.duplicated().sum()"
   ]
  },
  {
   "cell_type": "code",
   "execution_count": 63,
   "id": "43f5a3fe",
   "metadata": {},
   "outputs": [],
   "source": [
    "# Columns to potentially drop\n",
    "columns_to_drop = [\n",
    "     'DOT_CODE',\n",
    "    'WHEELS_OFF', 'WHEELS_ON', 'TAXI_OUT', \n",
    "    'TAXI_IN'\n",
    "]\n",
    "\n",
    "# Drop columns\n",
    "df_cleaned = df.drop(columns=columns_to_drop)"
   ]
  },
  {
   "cell_type": "markdown",
   "id": "6f52513e",
   "metadata": {},
   "source": [
    "## 7. Descriptive Analysis"
   ]
  },
  {
   "cell_type": "code",
   "execution_count": 64,
   "id": "cbee7053",
   "metadata": {},
   "outputs": [
    {
     "data": {
      "text/html": [
       "<div>\n",
       "<style scoped>\n",
       "    .dataframe tbody tr th:only-of-type {\n",
       "        vertical-align: middle;\n",
       "    }\n",
       "\n",
       "    .dataframe tbody tr th {\n",
       "        vertical-align: top;\n",
       "    }\n",
       "\n",
       "    .dataframe thead th {\n",
       "        text-align: right;\n",
       "    }\n",
       "</style>\n",
       "<table border=\"1\" class=\"dataframe\">\n",
       "  <thead>\n",
       "    <tr style=\"text-align: right;\">\n",
       "      <th></th>\n",
       "      <th>FL_NUMBER</th>\n",
       "      <th>CRS_DEP_TIME</th>\n",
       "      <th>DEP_TIME</th>\n",
       "      <th>DEP_DELAY</th>\n",
       "      <th>CRS_ARR_TIME</th>\n",
       "      <th>ARR_TIME</th>\n",
       "      <th>ARR_DELAY</th>\n",
       "      <th>CANCELLED</th>\n",
       "      <th>DIVERTED</th>\n",
       "      <th>CRS_ELAPSED_TIME</th>\n",
       "      <th>ELAPSED_TIME</th>\n",
       "      <th>AIR_TIME</th>\n",
       "      <th>DISTANCE</th>\n",
       "      <th>DELAY_DUE_CARRIER</th>\n",
       "      <th>DELAY_DUE_WEATHER</th>\n",
       "      <th>DELAY_DUE_NAS</th>\n",
       "      <th>DELAY_DUE_SECURITY</th>\n",
       "      <th>DELAY_DUE_LATE_AIRCRAFT</th>\n",
       "    </tr>\n",
       "  </thead>\n",
       "  <tbody>\n",
       "    <tr>\n",
       "      <th>count</th>\n",
       "      <td>2.920058e+06</td>\n",
       "      <td>2.920058e+06</td>\n",
       "      <td>2.920058e+06</td>\n",
       "      <td>2.920058e+06</td>\n",
       "      <td>2.920058e+06</td>\n",
       "      <td>2.920058e+06</td>\n",
       "      <td>2.920058e+06</td>\n",
       "      <td>2920058.0</td>\n",
       "      <td>2.920058e+06</td>\n",
       "      <td>2.920058e+06</td>\n",
       "      <td>2.920058e+06</td>\n",
       "      <td>2.920058e+06</td>\n",
       "      <td>2.920058e+06</td>\n",
       "      <td>2.920058e+06</td>\n",
       "      <td>2.920058e+06</td>\n",
       "      <td>2.920058e+06</td>\n",
       "      <td>2.920058e+06</td>\n",
       "      <td>2.920058e+06</td>\n",
       "    </tr>\n",
       "    <tr>\n",
       "      <th>mean</th>\n",
       "      <td>2.508223e+03</td>\n",
       "      <td>1.326088e+03</td>\n",
       "      <td>1.329660e+03</td>\n",
       "      <td>1.008084e+01</td>\n",
       "      <td>1.489969e+03</td>\n",
       "      <td>1.466511e+03</td>\n",
       "      <td>4.236733e+00</td>\n",
       "      <td>0.0</td>\n",
       "      <td>2.142423e-03</td>\n",
       "      <td>1.424570e+02</td>\n",
       "      <td>1.365849e+02</td>\n",
       "      <td>1.122738e+02</td>\n",
       "      <td>8.110835e+02</td>\n",
       "      <td>4.526609e+00</td>\n",
       "      <td>7.286098e-01</td>\n",
       "      <td>2.406857e+00</td>\n",
       "      <td>2.667995e-02</td>\n",
       "      <td>4.656817e+00</td>\n",
       "    </tr>\n",
       "    <tr>\n",
       "      <th>std</th>\n",
       "      <td>1.746049e+03</td>\n",
       "      <td>4.854828e+02</td>\n",
       "      <td>4.992750e+02</td>\n",
       "      <td>4.912334e+01</td>\n",
       "      <td>5.109341e+02</td>\n",
       "      <td>5.318383e+02</td>\n",
       "      <td>5.112263e+01</td>\n",
       "      <td>0.0</td>\n",
       "      <td>4.623672e-02</td>\n",
       "      <td>7.174253e+01</td>\n",
       "      <td>7.160312e+01</td>\n",
       "      <td>6.968468e+01</td>\n",
       "      <td>5.895133e+02</td>\n",
       "      <td>3.214587e+01</td>\n",
       "      <td>1.394360e+01</td>\n",
       "      <td>1.506449e+01</td>\n",
       "      <td>1.532658e+00</td>\n",
       "      <td>2.579744e+01</td>\n",
       "    </tr>\n",
       "    <tr>\n",
       "      <th>min</th>\n",
       "      <td>1.000000e+00</td>\n",
       "      <td>1.000000e+00</td>\n",
       "      <td>1.000000e+00</td>\n",
       "      <td>-9.000000e+01</td>\n",
       "      <td>1.000000e+00</td>\n",
       "      <td>1.000000e+00</td>\n",
       "      <td>-9.600000e+01</td>\n",
       "      <td>0.0</td>\n",
       "      <td>0.000000e+00</td>\n",
       "      <td>1.000000e+00</td>\n",
       "      <td>1.500000e+01</td>\n",
       "      <td>8.000000e+00</td>\n",
       "      <td>2.900000e+01</td>\n",
       "      <td>0.000000e+00</td>\n",
       "      <td>0.000000e+00</td>\n",
       "      <td>0.000000e+00</td>\n",
       "      <td>0.000000e+00</td>\n",
       "      <td>0.000000e+00</td>\n",
       "    </tr>\n",
       "    <tr>\n",
       "      <th>25%</th>\n",
       "      <td>1.049000e+03</td>\n",
       "      <td>9.150000e+02</td>\n",
       "      <td>9.160000e+02</td>\n",
       "      <td>-6.000000e+00</td>\n",
       "      <td>1.107000e+03</td>\n",
       "      <td>1.053000e+03</td>\n",
       "      <td>-1.600000e+01</td>\n",
       "      <td>0.0</td>\n",
       "      <td>0.000000e+00</td>\n",
       "      <td>9.000000e+01</td>\n",
       "      <td>8.400000e+01</td>\n",
       "      <td>6.100000e+01</td>\n",
       "      <td>3.790000e+02</td>\n",
       "      <td>0.000000e+00</td>\n",
       "      <td>0.000000e+00</td>\n",
       "      <td>0.000000e+00</td>\n",
       "      <td>0.000000e+00</td>\n",
       "      <td>0.000000e+00</td>\n",
       "    </tr>\n",
       "    <tr>\n",
       "      <th>50%</th>\n",
       "      <td>2.149000e+03</td>\n",
       "      <td>1.318000e+03</td>\n",
       "      <td>1.323000e+03</td>\n",
       "      <td>-2.000000e+00</td>\n",
       "      <td>1.515000e+03</td>\n",
       "      <td>1.505000e+03</td>\n",
       "      <td>-7.000000e+00</td>\n",
       "      <td>0.0</td>\n",
       "      <td>0.000000e+00</td>\n",
       "      <td>1.250000e+02</td>\n",
       "      <td>1.200000e+02</td>\n",
       "      <td>9.500000e+01</td>\n",
       "      <td>6.550000e+02</td>\n",
       "      <td>0.000000e+00</td>\n",
       "      <td>0.000000e+00</td>\n",
       "      <td>0.000000e+00</td>\n",
       "      <td>0.000000e+00</td>\n",
       "      <td>0.000000e+00</td>\n",
       "    </tr>\n",
       "    <tr>\n",
       "      <th>75%</th>\n",
       "      <td>3.791000e+03</td>\n",
       "      <td>1.730000e+03</td>\n",
       "      <td>1.739000e+03</td>\n",
       "      <td>6.000000e+00</td>\n",
       "      <td>1.918000e+03</td>\n",
       "      <td>1.913000e+03</td>\n",
       "      <td>7.000000e+00</td>\n",
       "      <td>0.0</td>\n",
       "      <td>0.000000e+00</td>\n",
       "      <td>1.730000e+02</td>\n",
       "      <td>1.670000e+02</td>\n",
       "      <td>1.420000e+02</td>\n",
       "      <td>1.047000e+03</td>\n",
       "      <td>0.000000e+00</td>\n",
       "      <td>0.000000e+00</td>\n",
       "      <td>0.000000e+00</td>\n",
       "      <td>0.000000e+00</td>\n",
       "      <td>0.000000e+00</td>\n",
       "    </tr>\n",
       "    <tr>\n",
       "      <th>max</th>\n",
       "      <td>9.562000e+03</td>\n",
       "      <td>2.359000e+03</td>\n",
       "      <td>2.400000e+03</td>\n",
       "      <td>2.966000e+03</td>\n",
       "      <td>2.400000e+03</td>\n",
       "      <td>2.400000e+03</td>\n",
       "      <td>2.934000e+03</td>\n",
       "      <td>0.0</td>\n",
       "      <td>1.000000e+00</td>\n",
       "      <td>7.050000e+02</td>\n",
       "      <td>7.390000e+02</td>\n",
       "      <td>6.920000e+02</td>\n",
       "      <td>5.812000e+03</td>\n",
       "      <td>2.934000e+03</td>\n",
       "      <td>1.653000e+03</td>\n",
       "      <td>1.741000e+03</td>\n",
       "      <td>1.185000e+03</td>\n",
       "      <td>2.557000e+03</td>\n",
       "    </tr>\n",
       "  </tbody>\n",
       "</table>\n",
       "</div>"
      ],
      "text/plain": [
       "          FL_NUMBER  CRS_DEP_TIME      DEP_TIME     DEP_DELAY  CRS_ARR_TIME  \\\n",
       "count  2.920058e+06  2.920058e+06  2.920058e+06  2.920058e+06  2.920058e+06   \n",
       "mean   2.508223e+03  1.326088e+03  1.329660e+03  1.008084e+01  1.489969e+03   \n",
       "std    1.746049e+03  4.854828e+02  4.992750e+02  4.912334e+01  5.109341e+02   \n",
       "min    1.000000e+00  1.000000e+00  1.000000e+00 -9.000000e+01  1.000000e+00   \n",
       "25%    1.049000e+03  9.150000e+02  9.160000e+02 -6.000000e+00  1.107000e+03   \n",
       "50%    2.149000e+03  1.318000e+03  1.323000e+03 -2.000000e+00  1.515000e+03   \n",
       "75%    3.791000e+03  1.730000e+03  1.739000e+03  6.000000e+00  1.918000e+03   \n",
       "max    9.562000e+03  2.359000e+03  2.400000e+03  2.966000e+03  2.400000e+03   \n",
       "\n",
       "           ARR_TIME     ARR_DELAY  CANCELLED      DIVERTED  CRS_ELAPSED_TIME  \\\n",
       "count  2.920058e+06  2.920058e+06  2920058.0  2.920058e+06      2.920058e+06   \n",
       "mean   1.466511e+03  4.236733e+00        0.0  2.142423e-03      1.424570e+02   \n",
       "std    5.318383e+02  5.112263e+01        0.0  4.623672e-02      7.174253e+01   \n",
       "min    1.000000e+00 -9.600000e+01        0.0  0.000000e+00      1.000000e+00   \n",
       "25%    1.053000e+03 -1.600000e+01        0.0  0.000000e+00      9.000000e+01   \n",
       "50%    1.505000e+03 -7.000000e+00        0.0  0.000000e+00      1.250000e+02   \n",
       "75%    1.913000e+03  7.000000e+00        0.0  0.000000e+00      1.730000e+02   \n",
       "max    2.400000e+03  2.934000e+03        0.0  1.000000e+00      7.050000e+02   \n",
       "\n",
       "       ELAPSED_TIME      AIR_TIME      DISTANCE  DELAY_DUE_CARRIER  \\\n",
       "count  2.920058e+06  2.920058e+06  2.920058e+06       2.920058e+06   \n",
       "mean   1.365849e+02  1.122738e+02  8.110835e+02       4.526609e+00   \n",
       "std    7.160312e+01  6.968468e+01  5.895133e+02       3.214587e+01   \n",
       "min    1.500000e+01  8.000000e+00  2.900000e+01       0.000000e+00   \n",
       "25%    8.400000e+01  6.100000e+01  3.790000e+02       0.000000e+00   \n",
       "50%    1.200000e+02  9.500000e+01  6.550000e+02       0.000000e+00   \n",
       "75%    1.670000e+02  1.420000e+02  1.047000e+03       0.000000e+00   \n",
       "max    7.390000e+02  6.920000e+02  5.812000e+03       2.934000e+03   \n",
       "\n",
       "       DELAY_DUE_WEATHER  DELAY_DUE_NAS  DELAY_DUE_SECURITY  \\\n",
       "count       2.920058e+06   2.920058e+06        2.920058e+06   \n",
       "mean        7.286098e-01   2.406857e+00        2.667995e-02   \n",
       "std         1.394360e+01   1.506449e+01        1.532658e+00   \n",
       "min         0.000000e+00   0.000000e+00        0.000000e+00   \n",
       "25%         0.000000e+00   0.000000e+00        0.000000e+00   \n",
       "50%         0.000000e+00   0.000000e+00        0.000000e+00   \n",
       "75%         0.000000e+00   0.000000e+00        0.000000e+00   \n",
       "max         1.653000e+03   1.741000e+03        1.185000e+03   \n",
       "\n",
       "       DELAY_DUE_LATE_AIRCRAFT  \n",
       "count             2.920058e+06  \n",
       "mean              4.656817e+00  \n",
       "std               2.579744e+01  \n",
       "min               0.000000e+00  \n",
       "25%               0.000000e+00  \n",
       "50%               0.000000e+00  \n",
       "75%               0.000000e+00  \n",
       "max               2.557000e+03  "
      ]
     },
     "execution_count": 64,
     "metadata": {},
     "output_type": "execute_result"
    }
   ],
   "source": [
    "df_cleaned.describe()"
   ]
  },
  {
   "cell_type": "code",
   "execution_count": 65,
   "id": "3b71dfca",
   "metadata": {},
   "outputs": [
    {
     "data": {
      "text/plain": [
       "(2920058, 27)"
      ]
     },
     "execution_count": 65,
     "metadata": {},
     "output_type": "execute_result"
    }
   ],
   "source": [
    "df_cleaned.shape"
   ]
  },
  {
   "cell_type": "markdown",
   "id": "4253bd70",
   "metadata": {},
   "source": [
    "## 8. Rename columns"
   ]
  },
  {
   "cell_type": "code",
   "execution_count": 66,
   "id": "f0923386",
   "metadata": {},
   "outputs": [],
   "source": [
    "\n",
    "df_cleaned.rename(columns={\n",
    "    'FL_DATE': 'Flight_Date',\n",
    "    'AIRLINE': 'Airline',\n",
    "    'AIRLINE_DOT': 'Airline_DOT_Code',\n",
    "    'AIRLINE_CODE': 'Airline_Code',\n",
    "    'DOT_CODE': 'DOT_Code',\n",
    "    'FL_NUMBER': 'Flight_Number',\n",
    "    'ORIGIN': 'Origin_Airport',\n",
    "    'ORIGIN_CITY': 'Origin_City',\n",
    "    'DEST': 'Destination_Airport',\n",
    "    'DEST_CITY': 'Destination_City',\n",
    "    'CRS_DEP_TIME': 'Scheduled_Departure_Time',\n",
    "    'DEP_TIME': 'Actual_Departure_Time',\n",
    "    'DEP_DELAY': 'Departure_Delay',\n",
    "    'TAXI_OUT': 'Taxi_Out_Time',\n",
    "    'WHEELS_OFF': 'Wheels_Off_Time',\n",
    "    'WHEELS_ON': 'Wheels_On_Time',\n",
    "    'TAXI_IN': 'Taxi_In_Time',\n",
    "    'CRS_ARR_TIME': 'Scheduled_Arrival_Time',\n",
    "    'ARR_TIME': 'Actual_Arrival_Time',\n",
    "    'ARR_DELAY': 'Arrival_Delay',\n",
    "    'CANCELLED': 'Cancelled',\n",
    "    'CANCELLATION_CODE': 'Cancellation_Code',\n",
    "    'DIVERTED': 'Diverted',\n",
    "    'CRS_ELAPSED_TIME': 'Scheduled_Elapsed_Time',\n",
    "    'ELAPSED_TIME': 'Actual_Elapsed_Time',\n",
    "    'AIR_TIME': 'Air_Time',\n",
    "    'DISTANCE': 'Distance',\n",
    "    'DELAY_DUE_CARRIER': 'Carrier_Delay',\n",
    "    'DELAY_DUE_WEATHER': 'Weather_Delay',\n",
    "    'DELAY_DUE_NAS': 'NAS_Delay',\n",
    "    'DELAY_DUE_SECURITY': 'Security_Delay',\n",
    "    'DELAY_DUE_LATE_AIRCRAFT': 'Late_Aircraft_Delay'\n",
    "}, inplace=True)\n"
   ]
  },
  {
   "cell_type": "code",
   "execution_count": 67,
   "id": "974fbf87",
   "metadata": {},
   "outputs": [
    {
     "data": {
      "text/plain": [
       "Index(['Flight_Date', 'Airline', 'Airline_DOT_Code', 'Airline_Code',\n",
       "       'Flight_Number', 'Origin_Airport', 'Origin_City', 'Destination_Airport',\n",
       "       'Destination_City', 'Scheduled_Departure_Time', 'Actual_Departure_Time',\n",
       "       'Departure_Delay', 'Scheduled_Arrival_Time', 'Actual_Arrival_Time',\n",
       "       'Arrival_Delay', 'Cancelled', 'Cancellation_Code', 'Diverted',\n",
       "       'Scheduled_Elapsed_Time', 'Actual_Elapsed_Time', 'Air_Time', 'Distance',\n",
       "       'Carrier_Delay', 'Weather_Delay', 'NAS_Delay', 'Security_Delay',\n",
       "       'Late_Aircraft_Delay'],\n",
       "      dtype='object')"
      ]
     },
     "execution_count": 67,
     "metadata": {},
     "output_type": "execute_result"
    }
   ],
   "source": [
    "df_cleaned.columns"
   ]
  },
  {
   "cell_type": "code",
   "execution_count": 68,
   "id": "9ad0acff",
   "metadata": {},
   "outputs": [],
   "source": [
    "df_cleaned.to_csv(os.path.join(path, '02 Data','Prepared Data', 'flightdelay_cleaned.csv'))"
   ]
  },
  {
   "cell_type": "code",
   "execution_count": null,
   "id": "c53ae272",
   "metadata": {},
   "outputs": [],
   "source": []
  }
 ],
 "metadata": {
  "kernelspec": {
   "display_name": "Python 3 (ipykernel)",
   "language": "python",
   "name": "python3"
  },
  "language_info": {
   "codemirror_mode": {
    "name": "ipython",
    "version": 3
   },
   "file_extension": ".py",
   "mimetype": "text/x-python",
   "name": "python",
   "nbconvert_exporter": "python",
   "pygments_lexer": "ipython3",
   "version": "3.9.7"
  }
 },
 "nbformat": 4,
 "nbformat_minor": 5
}
